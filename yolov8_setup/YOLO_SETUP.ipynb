{
  "nbformat": 4,
  "nbformat_minor": 0,
  "metadata": {
    "colab": {
      "provenance": [],
      "authorship_tag": "ABX9TyPu+x26+PU+N4yZDEZY1rfi",
      "include_colab_link": true
    },
    "kernelspec": {
      "name": "python3",
      "display_name": "Python 3"
    },
    "language_info": {
      "name": "python"
    }
  },
  "cells": [
    {
      "cell_type": "markdown",
      "metadata": {
        "id": "view-in-github",
        "colab_type": "text"
      },
      "source": [
        "<a href=\"https://colab.research.google.com/github/Drikzz/thesis_system/blob/main/notebooks/YOLO_SETUP.ipynb\" target=\"_parent\"><img src=\"https://colab.research.google.com/assets/colab-badge.svg\" alt=\"Open In Colab\"/></a>"
      ]
    },
    {
      "cell_type": "markdown",
      "source": [
        "# **Install YOLOv8 Dependencies**"
      ],
      "metadata": {
        "id": "9QTH9XLhBRUP"
      }
    },
    {
      "cell_type": "code",
      "execution_count": null,
      "metadata": {
        "id": "m-ky-Vp64v_E"
      },
      "outputs": [],
      "source": [
        "# Install YOLOv8\n",
        "!pip install ultralytics opencv-python"
      ]
    },
    {
      "cell_type": "markdown",
      "source": [
        "# **Verify Installation**"
      ],
      "metadata": {
        "id": "bI3hi5nIBYqh"
      }
    },
    {
      "cell_type": "code",
      "source": [
        "# Verify YOLOv8 installation\n",
        "import ultralytics\n",
        "print(ultralytics.__version__)\n",
        "\n",
        "# Verify OpenCV installation\n",
        "import cv2\n",
        "print(cv2.__version__)\n"
      ],
      "metadata": {
        "id": "Lr1YkjB_B0dS"
      },
      "execution_count": null,
      "outputs": []
    },
    {
      "cell_type": "markdown",
      "source": [
        "# **Set Up YOLOv8 Model for Detection**"
      ],
      "metadata": {
        "id": "cxF0l4bCCFSM"
      }
    },
    {
      "cell_type": "code",
      "source": [
        "# Import necessary libraries\n",
        "from ultralytics import YOLO\n",
        "import cv2\n",
        "\n",
        "# Load YOLOv8 model (e.g., YOLOv8n for small, fast inference)\n",
        "model = YOLO(\"yolov8n.pt\")\n",
        "\n",
        "# Run the model on an image\n",
        "img_path = \"/content/sample_image.jpg\"  # Update with the path to your image\n",
        "results = model(img_path)\n",
        "\n",
        "# Plot the results\n",
        "results.show()\n"
      ],
      "metadata": {
        "id": "OmW2unUfCEr0"
      },
      "execution_count": null,
      "outputs": []
    }
  ]
}