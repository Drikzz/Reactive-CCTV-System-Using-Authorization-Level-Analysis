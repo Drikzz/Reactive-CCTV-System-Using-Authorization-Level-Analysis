{
  "nbformat": 4,
  "nbformat_minor": 0,
  "metadata": {
    "colab": {
      "provenance": [],
      "gpuType": "T4"
    },
    "kernelspec": {
      "name": "python3",
      "display_name": "Python 3"
    },
    "language_info": {
      "name": "python"
    },
    "accelerator": "GPU"
  },
  "cells": [
    {
      "cell_type": "markdown",
      "source": [
        "# **CLONE FIRST THE GITHUB REPOSITORY**"
      ],
      "metadata": {
        "id": "6eqznL6TrzKw"
      }
    },
    {
      "cell_type": "code",
      "source": [
        "!git clone https://github.com/Drikzz/thesis_system.git"
      ],
      "metadata": {
        "id": "8P7hC4BSr3t-"
      },
      "execution_count": null,
      "outputs": []
    },
    {
      "cell_type": "markdown",
      "source": [
        "# **NAVIGATE INSIDE THE REPOSITORY**"
      ],
      "metadata": {
        "id": "nFKnEjLAr6fJ"
      }
    },
    {
      "cell_type": "code",
      "source": [
        "%cd /thesis_system/"
      ],
      "metadata": {
        "id": "T3zQe6i0r_Py",
        "colab": {
          "base_uri": "https://localhost:8080/"
        },
        "outputId": "1c4f2683-ffc9-40d7-9a27-671ef0bb9df0"
      },
      "execution_count": null,
      "outputs": [
        {
          "output_type": "stream",
          "name": "stdout",
          "text": [
            "[Errno 2] No such file or directory: '/thesis_system/'\n",
            "/root\n"
          ]
        }
      ]
    },
    {
      "cell_type": "markdown",
      "source": [
        "# **GENERATE FOLDER STRUCTURE**"
      ],
      "metadata": {
        "id": "KtEXbOVurr4o"
      }
    },
    {
      "cell_type": "code",
      "source": [
        "import os\n",
        "\n",
        "folders = [\n",
        "    \"data/faces\",\n",
        "    \"data/behavior_clips\",\n",
        "    \"data/test_images\",\n",
        "    \"models/YOLOv8\",\n",
        "    \"notebooks\",\n",
        "    \"outputs/detected_faces\",\n",
        "    \"outputs/annotated_frames\",\n",
        "    \"outputs/logs\"\n",
        "]\n",
        "\n",
        "for folder in folders:\n",
        "    os.makedirs(folder, exist_ok=True)\n",
        "    print(f\"Created folder: {folder}\")\n",
        "\n",
        "print(\"Folder structure created successfully!\")\n"
      ],
      "metadata": {
        "id": "PlP2HnK4eXkR"
      },
      "execution_count": null,
      "outputs": []
    },
    {
      "cell_type": "markdown",
      "source": [
        "# **CHECK LOCAL STATUS OF REPO**"
      ],
      "metadata": {
        "id": "LDJnosWV2nMJ"
      }
    },
    {
      "cell_type": "code",
      "source": [
        "!git status"
      ],
      "metadata": {
        "colab": {
          "base_uri": "https://localhost:8080/"
        },
        "id": "RWUGtl-4vnM6",
        "outputId": "a6949037-d3c3-4f41-85aa-4fba50feaa46"
      },
      "execution_count": null,
      "outputs": [
        {
          "output_type": "stream",
          "name": "stdout",
          "text": [
            "On branch main\n",
            "Your branch is ahead of 'origin/main' by 2 commits.\n",
            "  (use \"git push\" to publish your local commits)\n",
            "\n",
            "nothing to commit, working tree clean\n"
          ]
        }
      ]
    },
    {
      "cell_type": "markdown",
      "source": [
        "## **PUSH TO GITHUB**"
      ],
      "metadata": {
        "id": "WjPb-JxhuHHy"
      }
    },
    {
      "cell_type": "code",
      "source": [
        "!git config --global user.email \"rikzsuarez@gmail.com\"\n",
        "!git config --global user.name \"Drikzz\""
      ],
      "metadata": {
        "id": "JrFfD58dtZ9O"
      },
      "execution_count": null,
      "outputs": []
    },
    {
      "cell_type": "code",
      "source": [
        "!git add .\n",
        "!git commit -m \"Initial push with folder structure and notebooks\"\n",
        "!git push https://Drikzz:<token>@github.com/Drikzz/thesis_system.git"
      ],
      "metadata": {
        "colab": {
          "base_uri": "https://localhost:8080/"
        },
        "id": "BZOJsimtuQwr",
        "outputId": "2be74352-d969-48d9-bf6c-8d51174fca89"
      },
      "execution_count": null,
      "outputs": [
        {
          "output_type": "stream",
          "name": "stdout",
          "text": [
            "On branch main\n",
            "Your branch is ahead of 'origin/main' by 1 commit.\n",
            "  (use \"git push\" to publish your local commits)\n",
            "\n",
            "nothing to commit, working tree clean\n",
            "Everything up-to-date\n"
          ]
        }
      ]
    },
    {
      "cell_type": "markdown",
      "source": [
        "# **ADD .KEEP TO EMPTY FOLDERS**"
      ],
      "metadata": {
        "id": "0RIb3RGbFMZ-"
      }
    },
    {
      "cell_type": "code",
      "source": [
        "#add dummy file to empty folder\n",
        "!touch data/faces/.gitkeep\n",
        "!touch data/behavior_clips/.gitkeep\n",
        "!touch data/test_images/.gitkeep\n",
        "!touch notebooks/.gitkeep\n",
        "!touch outputs/detected_faces/.gitkeep\n",
        "!touch outputs/annotated_frames/.gitkeep\n",
        "!touch outputs/logs/.gitkeep\n",
        "\n",
        "print(\"Created .gitkeep files in empty directories to track them with Git.\")"
      ],
      "metadata": {
        "colab": {
          "base_uri": "https://localhost:8080/"
        },
        "id": "eEXXPGly3wX1",
        "outputId": "62024dd9-f0eb-4133-ba3d-599f234fce41"
      },
      "execution_count": null,
      "outputs": [
        {
          "output_type": "stream",
          "name": "stdout",
          "text": [
            "Created .gitkeep files in empty directories to track them with Git.\n"
          ]
        }
      ]
    },
    {
      "cell_type": "code",
      "source": [
        "!ls"
      ],
      "metadata": {
        "colab": {
          "base_uri": "https://localhost:8080/"
        },
        "id": "xWZU7B_tGfSX",
        "outputId": "3f80dbcb-a8d7-4964-c7f2-cab3e783bb5c"
      },
      "execution_count": null,
      "outputs": [
        {
          "output_type": "stream",
          "name": "stdout",
          "text": [
            "data  models  notebooks  outputs  README.md  YOLOv8_setup.ipynb\n"
          ]
        }
      ]
    }
  ]
}