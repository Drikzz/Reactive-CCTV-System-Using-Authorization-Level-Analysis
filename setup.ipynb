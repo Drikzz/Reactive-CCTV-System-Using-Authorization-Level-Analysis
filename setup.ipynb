//folder structure generation

import os

folders = [
    "thesis-system/data/faces",
    "thesis-system/data/behavior_clips",
    "thesis-system/data/test_images",
    "thesis-system/models",
    "thesis-system/notebooks",
    "thesis-system/outputs/detected_faces",
    "thesis-system/outputs/annotated_frames",
    "thesis-system/outputs/logs"
]

for folder in folders:
    os.makedirs(folder, exist_ok=True)
    print(f"Created folder: {folder}")

print("Folder structure created successfully!")
